{
  "nbformat": 4,
  "nbformat_minor": 0,
  "metadata": {
    "colab": {
      "provenance": [],
      "authorship_tag": "ABX9TyMMFEQvrtglQwKHP51WzxFY",
      "include_colab_link": true
    },
    "kernelspec": {
      "name": "python3",
      "display_name": "Python 3"
    },
    "language_info": {
      "name": "python"
    }
  },
  "cells": [
    {
      "cell_type": "markdown",
      "metadata": {
        "id": "view-in-github",
        "colab_type": "text"
      },
      "source": [
        "<a href=\"https://colab.research.google.com/github/Chandini2514/python/blob/main/Python_2.ipynb\" target=\"_parent\"><img src=\"https://colab.research.google.com/assets/colab-badge.svg\" alt=\"Open In Colab\"/></a>"
      ]
    },
    {
      "cell_type": "code",
      "execution_count": null,
      "metadata": {
        "colab": {
          "base_uri": "https://localhost:8080/"
        },
        "id": "Lp4pGM8q6Gbq",
        "outputId": "3bef7989-7dad-4e26-83f8-70f295143970"
      },
      "outputs": [
        {
          "output_type": "stream",
          "name": "stdout",
          "text": [
            "Rukmini and radha are friends\n",
            "kiwi is the best to gain weight\n",
            "Ayurveda Is The Best Medicine\n",
            "START THE CLASS\n",
            "see the sky\n"
          ]
        },
        {
          "output_type": "execute_result",
          "data": {
            "text/plain": [
              "True"
            ]
          },
          "metadata": {},
          "execution_count": 2
        }
      ],
      "source": [
        "#capitalize\n",
        "\n",
        "A=\"rukmini and radha are friends\"\n",
        "s=A.capitalize()\n",
        "print(s)\n",
        "\n",
        "\n",
        "#replace\n",
        "B=\"banana is the best to gain weight\"\n",
        "d=B.replace(\"banana\",\"kiwi\")\n",
        "print(d)\n",
        "\n",
        "#title\n",
        "D=\"Ayurveda is the best medicine\"\n",
        "f=D.title()\n",
        "print(f)\n",
        "\n",
        "#upper\n",
        "F=\"start the class\"\n",
        "c=F.upper()\n",
        "print(c)\n",
        "\n",
        "#lower\n",
        "G=\"SEE The Sky\"\n",
        "g=G.lower()\n",
        "print(g)\n",
        "\n",
        "#isdigit\n",
        "W=\"1223557\"\n",
        "W.isdigit()"
      ]
    },
    {
      "cell_type": "code",
      "source": [
        "#islower\n",
        "H=\"see that nature\"\n",
        "H.islower()"
      ],
      "metadata": {
        "colab": {
          "base_uri": "https://localhost:8080/"
        },
        "id": "xBz9Rcem6a69",
        "outputId": "d09858ea-7e1b-4f65-b734-d063d91ff086"
      },
      "execution_count": null,
      "outputs": [
        {
          "output_type": "execute_result",
          "data": {
            "text/plain": [
              "True"
            ]
          },
          "metadata": {},
          "execution_count": 3
        }
      ]
    },
    {
      "cell_type": "code",
      "source": [
        "#isupper\n",
        "A=\"ALL THE BEST\"\n",
        "A.isupper()"
      ],
      "metadata": {
        "colab": {
          "base_uri": "https://localhost:8080/"
        },
        "id": "3UDBHwgK6h9U",
        "outputId": "ed8beb3f-790d-4fa9-f7a5-c515e248c4c1"
      },
      "execution_count": null,
      "outputs": [
        {
          "output_type": "execute_result",
          "data": {
            "text/plain": [
              "True"
            ]
          },
          "metadata": {},
          "execution_count": 4
        }
      ]
    },
    {
      "cell_type": "code",
      "source": [
        "#isalnum\n",
        "S=\"akka cid\"\n",
        "S.isalnum()"
      ],
      "metadata": {
        "colab": {
          "base_uri": "https://localhost:8080/"
        },
        "id": "GLYdy1P-6ltc",
        "outputId": "d0c1b299-e1b9-4e1f-f84a-ce8afe8dd319"
      },
      "execution_count": null,
      "outputs": [
        {
          "output_type": "execute_result",
          "data": {
            "text/plain": [
              "False"
            ]
          },
          "metadata": {},
          "execution_count": 5
        }
      ]
    },
    {
      "cell_type": "code",
      "source": [
        "#isalpha\n",
        "F=\"clerkgood\"\n",
        "F.isalpha()"
      ],
      "metadata": {
        "colab": {
          "base_uri": "https://localhost:8080/"
        },
        "id": "RnyCqVSE6p9V",
        "outputId": "195dd884-0801-4721-eb55-7c1960986fa5"
      },
      "execution_count": null,
      "outputs": [
        {
          "output_type": "execute_result",
          "data": {
            "text/plain": [
              "True"
            ]
          },
          "metadata": {},
          "execution_count": 6
        }
      ]
    },
    {
      "cell_type": "code",
      "source": [
        "#count\n",
        "A=\"banana is fav to banana ,like banana\"\n",
        "A.count(\"banana\")"
      ],
      "metadata": {
        "colab": {
          "base_uri": "https://localhost:8080/"
        },
        "id": "PqCVl2Fw6t3N",
        "outputId": "557c37d5-1ea2-4e71-ff2e-f04e7d5d9a12"
      },
      "execution_count": null,
      "outputs": [
        {
          "output_type": "execute_result",
          "data": {
            "text/plain": [
              "3"
            ]
          },
          "metadata": {},
          "execution_count": 7
        }
      ]
    },
    {
      "cell_type": "code",
      "source": [
        "#index\n",
        "D=\"she is a programmer\"\n",
        "D.index(\"a\")"
      ],
      "metadata": {
        "colab": {
          "base_uri": "https://localhost:8080/"
        },
        "id": "SL8aAujY6xTe",
        "outputId": "cf3e1c7c-3c5c-4657-dcbb-9aaa771ce698"
      },
      "execution_count": null,
      "outputs": [
        {
          "output_type": "execute_result",
          "data": {
            "text/plain": [
              "7"
            ]
          },
          "metadata": {},
          "execution_count": 8
        }
      ]
    },
    {
      "cell_type": "code",
      "source": [
        "#find\n",
        "H=\"akka did a good job\"\n",
        "H.find(\"did\")"
      ],
      "metadata": {
        "colab": {
          "base_uri": "https://localhost:8080/"
        },
        "id": "kVJA0fGf61B2",
        "outputId": "941c2a5f-8a01-4e3f-c43e-db03bf3b8bce"
      },
      "execution_count": null,
      "outputs": [
        {
          "output_type": "execute_result",
          "data": {
            "text/plain": [
              "5"
            ]
          },
          "metadata": {},
          "execution_count": 9
        }
      ]
    },
    {
      "cell_type": "code",
      "source": [
        "#startswith\n",
        "D=\"WIF cloud vlc\"\n",
        "D.startswith(\"W\")"
      ],
      "metadata": {
        "colab": {
          "base_uri": "https://localhost:8080/"
        },
        "id": "d-UjO_jC647N",
        "outputId": "835b1bc7-02cd-4674-fd57-9c5dee4aba85"
      },
      "execution_count": null,
      "outputs": [
        {
          "output_type": "execute_result",
          "data": {
            "text/plain": [
              "True"
            ]
          },
          "metadata": {},
          "execution_count": 10
        }
      ]
    },
    {
      "cell_type": "code",
      "source": [
        "#endswith\n",
        "F=\"cloud WIF dnd akka!\"\n",
        "F.endswith(\".\")"
      ],
      "metadata": {
        "id": "CayM3-hN69Gj",
        "outputId": "6d34ccb2-a22a-40b2-ed3f-5c0eca984e68",
        "colab": {
          "base_uri": "https://localhost:8080/"
        }
      },
      "execution_count": null,
      "outputs": [
        {
          "output_type": "execute_result",
          "data": {
            "text/plain": [
              "False"
            ]
          },
          "metadata": {},
          "execution_count": 11
        }
      ]
    },
    {
      "cell_type": "code",
      "source": [
        "#Strip\n",
        "S=\" dog dog vmc dmc\"\n",
        "S.strip(\"dog\")"
      ],
      "metadata": {
        "id": "lxRF9KzQ7Bbp",
        "outputId": "ae3ea7b9-30dd-4f17-b871-1b21ce3b9861",
        "colab": {
          "base_uri": "https://localhost:8080/",
          "height": 35
        }
      },
      "execution_count": null,
      "outputs": [
        {
          "output_type": "execute_result",
          "data": {
            "text/plain": [
              "' dog dog vmc dmc'"
            ],
            "application/vnd.google.colaboratory.intrinsic+json": {
              "type": "string"
            }
          },
          "metadata": {},
          "execution_count": 12
        }
      ]
    }
  ]
}