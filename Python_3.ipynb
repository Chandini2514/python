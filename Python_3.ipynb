{
  "nbformat": 4,
  "nbformat_minor": 0,
  "metadata": {
    "colab": {
      "provenance": [],
      "authorship_tag": "ABX9TyNp7Srf5RcUQNxEpJ86ffeC",
      "include_colab_link": true
    },
    "kernelspec": {
      "name": "python3",
      "display_name": "Python 3"
    },
    "language_info": {
      "name": "python"
    }
  },
  "cells": [
    {
      "cell_type": "markdown",
      "metadata": {
        "id": "view-in-github",
        "colab_type": "text"
      },
      "source": [
        "<a href=\"https://colab.research.google.com/github/Chandini2514/python/blob/main/Python_3.ipynb\" target=\"_parent\"><img src=\"https://colab.research.google.com/assets/colab-badge.svg\" alt=\"Open In Colab\"/></a>"
      ]
    },
    {
      "cell_type": "code",
      "source": [
        "# Operations:\n",
        "# Operations are used to perform operations on variable and value\n",
        "# Arithmetic operations\n",
        "a=int(input())\n",
        "b=int(input())\n",
        "print(a+b)\n",
        "print(a-b)\n",
        "print(a/b)\n",
        "print(a*b)\n",
        "print(a%b)\n",
        "print(a//b)\n",
        "print(a**b)"
      ],
      "metadata": {
        "colab": {
          "base_uri": "https://localhost:8080/"
        },
        "id": "1MUon6t_U0CY",
        "outputId": "e1c9dc1f-b1f0-4555-ac52-37f0c344224e"
      },
      "execution_count": null,
      "outputs": [
        {
          "output_type": "stream",
          "name": "stdout",
          "text": [
            "6\n",
            "9\n",
            "15\n",
            "-3\n",
            "0.6666666666666666\n",
            "54\n",
            "6\n",
            "0\n",
            "10077696\n"
          ]
        }
      ]
    },
    {
      "cell_type": "code",
      "metadata": {
        "colab": {
          "base_uri": "https://localhost:8080/"
        },
        "id": "1c9b1fc1",
        "outputId": "6f669cd8-6298-4125-dd92-fd2ac6048a28"
      },
      "source": [
        "# Assignment operation\n",
        "a=int(input())\n",
        "b=int(input())\n",
        "print(a==b)\n",
        "a += b\n",
        "print(a)\n",
        "a -= b\n",
        "print(a)\n",
        "a *= b\n",
        "print(a)\n",
        "a /= b\n",
        "print(a)\n",
        "a %= b\n",
        "print(a)\n",
        "a //= b\n",
        "print(a)\n",
        "a **= b\n",
        "print(a)"
      ],
      "execution_count": null,
      "outputs": [
        {
          "output_type": "stream",
          "name": "stdout",
          "text": [
            "4\n",
            "5\n",
            "False\n",
            "9\n",
            "4\n",
            "20\n",
            "4.0\n",
            "4.0\n",
            "0.0\n",
            "0.0\n"
          ]
        }
      ]
    },
    {
      "cell_type": "code",
      "source": [
        "#comparison operation\n",
        "a=int(input())\n",
        "b=int(input())\n",
        "print(a==b)\n",
        "print(a!=b)\n",
        "print(a>b)\n",
        "print(a<b)\n",
        "print(a>=b)\n",
        "print(a<=b)"
      ],
      "metadata": {
        "colab": {
          "base_uri": "https://localhost:8080/"
        },
        "id": "05FuWY4ZDt3E",
        "outputId": "a22448b1-8225-4573-cb0a-a458fbaab6f7"
      },
      "execution_count": null,
      "outputs": [
        {
          "output_type": "stream",
          "name": "stdout",
          "text": [
            "25\n",
            "14\n",
            "False\n",
            "True\n",
            "True\n",
            "False\n",
            "True\n",
            "False\n"
          ]
        }
      ]
    },
    {
      "cell_type": "code",
      "source": [
        "#logical operation\n",
        "a=int(input())\n",
        "b=int(input())\n",
        "print(a>b and a<b)\n",
        "print(a>b or a<b)\n",
        "print(not(a>b))"
      ],
      "metadata": {
        "colab": {
          "base_uri": "https://localhost:8080/"
        },
        "id": "TCKVhzxrETRK",
        "outputId": "3d56d348-f5c0-4cae-cf1d-e6f9ccb62b48"
      },
      "execution_count": null,
      "outputs": [
        {
          "output_type": "stream",
          "name": "stdout",
          "text": [
            "8\n",
            "7\n",
            "False\n",
            "True\n",
            "False\n"
          ]
        }
      ]
    },
    {
      "cell_type": "code",
      "source": [
        "#identity operators\n",
        "a=int(input())\n",
        "b=int(input())\n",
        "print(a is b)\n",
        "print(a is not b)"
      ],
      "metadata": {
        "colab": {
          "base_uri": "https://localhost:8080/"
        },
        "id": "MWDVAvzRPBmY",
        "outputId": "5603d892-249e-4c95-9709-40b0702dc03b"
      },
      "execution_count": 22,
      "outputs": [
        {
          "output_type": "stream",
          "name": "stdout",
          "text": [
            "5\n",
            "6\n",
            "False\n",
            "True\n"
          ]
        }
      ]
    },
    {
      "cell_type": "code",
      "source": [
        "#Membership operators\n",
        "a=[\"chandu\",24,14,\"chandini\"]\n",
        "if \"chandu\" in a:\n",
        "  print(\"yes\")\n",
        "else:\n",
        "  print(\"no\")"
      ],
      "metadata": {
        "colab": {
          "base_uri": "https://localhost:8080/"
        },
        "id": "QLHVGgkQRHqz",
        "outputId": "278b7575-65c6-4dfb-90c5-3495e50479fd"
      },
      "execution_count": 30,
      "outputs": [
        {
          "output_type": "stream",
          "name": "stdout",
          "text": [
            "yes\n"
          ]
        }
      ]
    },
    {
      "cell_type": "code",
      "source": [
        "#Bitwise operator\n",
        "a=int(input())\n",
        "b=int(input())\n",
        "print(a&b)\n",
        "print(a|b)\n",
        "print(a^b)\n",
        "print(~a)\n",
        "print(a<<b)\n",
        "print(a>>b)"
      ],
      "metadata": {
        "colab": {
          "base_uri": "https://localhost:8080/"
        },
        "id": "qyMa5hqiTsLy",
        "outputId": "cac115d6-5401-4302-bfaa-0963c3c725af"
      },
      "execution_count": 31,
      "outputs": [
        {
          "output_type": "stream",
          "name": "stdout",
          "text": [
            "4\n",
            "6\n",
            "4\n",
            "6\n",
            "2\n",
            "-5\n",
            "256\n",
            "0\n"
          ]
        }
      ]
    },
    {
      "cell_type": "code",
      "source": [
        "#remove duplicate from a string\n",
        "v=input(\"enter a string:\")\n",
        "k=''.join(dict.fromkeys(v))\n",
        "print(k)\n",
        "\n",
        "#sqaure pattren\n",
        "n=int(input())\n",
        "for i in range (1,n):\n",
        "  for j in range(1,n):\n",
        "    print(\"*\",end=\"\")\n",
        "  print()\n",
        "\n",
        "#count words in sentence\n",
        "v=input(\"enter sentence:\")\n",
        "count = 1\n",
        "for i in v:\n",
        "  if i == \" \":\n",
        "    count = count + 1\n",
        "print(count)\n",
        "\n",
        "#intersection\n",
        "a={1,2,3,4}\n",
        "b={2,3,4,5}\n",
        "c={0,2,3,4}\n",
        "d=a.intersection(b,c)\n",
        "print(d)"
      ],
      "metadata": {
        "colab": {
          "base_uri": "https://localhost:8080/"
        },
        "id": "KHdkelhdSuI7",
        "outputId": "ef9cd5d3-fcfc-4f3c-de07-d5d5d673f05f"
      },
      "execution_count": 29,
      "outputs": [
        {
          "output_type": "stream",
          "name": "stdout",
          "text": [
            "enter a string:\"chandu\"\n",
            "\"chandu\n",
            "6\n",
            "*****\n",
            "*****\n",
            "*****\n",
            "*****\n",
            "*****\n",
            "enter sentence:i am very good girl\n",
            "5\n",
            "{2, 3, 4}\n"
          ]
        }
      ]
    }
  ]
}