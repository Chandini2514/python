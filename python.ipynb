{
  "nbformat": 4,
  "nbformat_minor": 0,
  "metadata": {
    "colab": {
      "provenance": [],
      "authorship_tag": "ABX9TyOlhDXagELHaD/Ih7tY8WDH",
      "include_colab_link": true
    },
    "kernelspec": {
      "name": "python3",
      "display_name": "Python 3"
    },
    "language_info": {
      "name": "python"
    }
  },
  "cells": [
    {
      "cell_type": "markdown",
      "metadata": {
        "id": "view-in-github",
        "colab_type": "text"
      },
      "source": [
        "<a href=\"https://colab.research.google.com/github/Chandini2514/python/blob/main/python.ipynb\" target=\"_parent\"><img src=\"https://colab.research.google.com/assets/colab-badge.svg\" alt=\"Open In Colab\"/></a>"
      ]
    },
    {
      "cell_type": "code",
      "execution_count": null,
      "metadata": {
        "colab": {
          "base_uri": "https://localhost:8080/"
        },
        "id": "EaO9Z0AILzUp",
        "outputId": "5924ffe8-d888-42bf-d209-266d701a08b5"
      },
      "outputs": [
        {
          "output_type": "stream",
          "name": "stdout",
          "text": [
            "enter the number90\n",
            "b\n"
          ]
        }
      ],
      "source": [
        "N=int(input(\"enter the number\"));\n",
        "if(N==60):\n",
        "    print(\"a\")\n",
        "elif(N==90):\n",
        "    print(\"b\")\n",
        "elif(N==30):\n",
        "    print(\"c\")\n",
        "else:\n",
        "    print(\"d\")"
      ]
    },
    {
      "cell_type": "code",
      "source": [
        "a=int(input(\"enter the number\"))\n",
        "b=int(input(\"enter the number\"))\n",
        "c=int(input(\"enter the number\"))\n",
        "d=int(input(\"enter the number\"))\n",
        "if(a>b and a>c and a>d):\n",
        "    print(\"a\")\n",
        "elif(b>a and b>c and b>d):\n",
        "    print(\"b\")\n",
        "elif(c>a and c>b and c>d):\n",
        "    print(\"c\")\n",
        "else:\n",
        "    print(\"d\")"
      ],
      "metadata": {
        "id": "96qTYLcxNdlI",
        "colab": {
          "base_uri": "https://localhost:8080/"
        },
        "outputId": "1aaf9cfe-0a7e-4a70-ff82-888db7e5e1c0"
      },
      "execution_count": null,
      "outputs": [
        {
          "output_type": "stream",
          "name": "stdout",
          "text": [
            "enter the number13\n",
            "enter the number19\n",
            "enter the number14\n",
            "enter the number20\n",
            "d\n"
          ]
        }
      ]
    },
    {
      "cell_type": "code",
      "source": [
        "X=int(input(\"enter age\"))\n",
        "if(X<18):\n",
        "    print(\"X is not eligible\")\n",
        "elif(X==18):\n",
        "    print(\"X is eligible\")\n",
        "else:\n",
        "    print(\"X is eligible for vote\")"
      ],
      "metadata": {
        "id": "yfUm829USEwU",
        "colab": {
          "base_uri": "https://localhost:8080/"
        },
        "outputId": "f906c754-6668-457b-f550-48616a465b6a"
      },
      "execution_count": null,
      "outputs": [
        {
          "output_type": "stream",
          "name": "stdout",
          "text": [
            "enter age22\n",
            "X is eligible for vote\n"
          ]
        }
      ]
    },
    {
      "cell_type": "code",
      "source": [
        "X=int(input(\"enter age\"))\n",
        "if(X<=15):\n",
        "    print(\"child\")\n",
        "elif(X<=18):\n",
        "    print(\"adult\")\n",
        "elif(X>=18):\n",
        "    print(\"youth\")\n",
        "elif(X<=30):\n",
        "    print(\"older\")\n",
        "else:\n",
        "    print(\"elder\")"
      ],
      "metadata": {
        "colab": {
          "base_uri": "https://localhost:8080/"
        },
        "id": "BOiBgc3YMAak",
        "outputId": "bb343b4d-4164-42f4-9629-0baa24586f96"
      },
      "execution_count": null,
      "outputs": [
        {
          "output_type": "stream",
          "name": "stdout",
          "text": [
            "enter age20\n",
            "youth\n"
          ]
        }
      ]
    },
    {
      "cell_type": "code",
      "source": [
        "name=\"chandu is a good girl.\"\n",
        "X=name.capitalize()\n",
        "print(X)"
      ],
      "metadata": {
        "colab": {
          "base_uri": "https://localhost:8080/"
        },
        "id": "gXLJIJMYt8N2",
        "outputId": "ba57e6b6-f475-4431-90a5-b553ab4d1a19"
      },
      "execution_count": null,
      "outputs": [
        {
          "output_type": "stream",
          "name": "stdout",
          "text": [
            "Chandu is a good girl.\n"
          ]
        }
      ]
    },
    {
      "cell_type": "code",
      "source": [
        "name=\"chandini is a good girl!\"\n",
        "X=name.casefold()\n",
        "print(X)"
      ],
      "metadata": {
        "colab": {
          "base_uri": "https://localhost:8080/"
        },
        "id": "GFjsjEV_uVXH",
        "outputId": "a7526351-ed9c-4dfe-abad-4cc5206dd9c2"
      },
      "execution_count": null,
      "outputs": [
        {
          "output_type": "stream",
          "name": "stdout",
          "text": [
            "chandini is a good girl!\n"
          ]
        }
      ]
    },
    {
      "cell_type": "code",
      "source": [
        "name=\"chandu\"\n",
        "X=name.center(30)\n",
        "print(X)"
      ],
      "metadata": {
        "colab": {
          "base_uri": "https://localhost:8080/"
        },
        "id": "V4BZfMMmvTF4",
        "outputId": "c550e925-7c3c-4a38-88ec-08f64c02d204"
      },
      "execution_count": null,
      "outputs": [
        {
          "output_type": "stream",
          "name": "stdout",
          "text": [
            "            chandu            \n"
          ]
        }
      ]
    },
    {
      "cell_type": "code",
      "source": [
        "name=\"I love apple,apple are my favourite fruit,apple.\"\n",
        "X=name.count(\"apple\")\n",
        "print(X)"
      ],
      "metadata": {
        "colab": {
          "base_uri": "https://localhost:8080/"
        },
        "id": "yw-qxyUnvoww",
        "outputId": "e0359a0a-9dba-45a8-9cca-71c1141694e1"
      },
      "execution_count": null,
      "outputs": [
        {
          "output_type": "stream",
          "name": "stdout",
          "text": [
            "3\n"
          ]
        }
      ]
    },
    {
      "cell_type": "code",
      "source": [
        "name=\"Hello,Welcome to my world.\"\n",
        "X=name.endswith(\".\")\n",
        "print(X)"
      ],
      "metadata": {
        "colab": {
          "base_uri": "https://localhost:8080/"
        },
        "id": "EWEE4uzLwKXR",
        "outputId": "e10e940f-ecce-4736-a01d-59a1d31c3317"
      },
      "execution_count": null,
      "outputs": [
        {
          "output_type": "stream",
          "name": "stdout",
          "text": [
            "True\n"
          ]
        }
      ]
    },
    {
      "cell_type": "code",
      "source": [
        "name=\"Hello, welcome to my world.\"\n",
        "X=name.find(\"welcome\")\n",
        "print(X)"
      ],
      "metadata": {
        "id": "p38VAumrpQLg",
        "colab": {
          "base_uri": "https://localhost:8080/"
        },
        "outputId": "2c6c73a2-d2d5-4b81-d488-41e261cca1ec"
      },
      "execution_count": null,
      "outputs": [
        {
          "output_type": "stream",
          "name": "stdout",
          "text": [
            "7\n"
          ]
        }
      ]
    },
    {
      "cell_type": "code",
      "source": [
        "name=\"Hello, welcome to my world.\"\n",
        "X=name.index(\"welcome\")\n",
        "print(X)"
      ],
      "metadata": {
        "colab": {
          "base_uri": "https://localhost:8080/"
        },
        "id": "l3swpYTywV9l",
        "outputId": "0e4df1dc-3c76-4b28-91b3-4e313afd2ab4"
      },
      "execution_count": null,
      "outputs": [
        {
          "output_type": "stream",
          "name": "stdout",
          "text": [
            "7\n"
          ]
        }
      ]
    },
    {
      "cell_type": "code",
      "source": [
        "name=\"chandu\"\n",
        "X=name.isalpha()\n",
        "print(X)"
      ],
      "metadata": {
        "colab": {
          "base_uri": "https://localhost:8080/"
        },
        "id": "1Ctv6gmux2QI",
        "outputId": "0509a4bc-83c1-4998-cb1b-1f7424c1411e"
      },
      "execution_count": null,
      "outputs": [
        {
          "output_type": "stream",
          "name": "stdout",
          "text": [
            "True\n"
          ]
        }
      ]
    },
    {
      "cell_type": "code",
      "source": [
        "name=\"venkat2514\"\n",
        "X=name.isascii()\n",
        "print(X)"
      ],
      "metadata": {
        "colab": {
          "base_uri": "https://localhost:8080/"
        },
        "id": "nUk7RtaQyIWj",
        "outputId": "da1ccc80-5d85-418d-c3ac-b79d166e788a"
      },
      "execution_count": null,
      "outputs": [
        {
          "output_type": "stream",
          "name": "stdout",
          "text": [
            "True\n"
          ]
        }
      ]
    },
    {
      "cell_type": "code",
      "source": [
        "name=\"2514\"\n",
        "X=name.isdecimal()\n",
        "print(X)"
      ],
      "metadata": {
        "colab": {
          "base_uri": "https://localhost:8080/"
        },
        "id": "v7liUs6Tyh-r",
        "outputId": "3accf3c5-c99f-45ba-86be-d7fcf2205856"
      },
      "execution_count": null,
      "outputs": [
        {
          "output_type": "stream",
          "name": "stdout",
          "text": [
            "True\n"
          ]
        }
      ]
    },
    {
      "cell_type": "code",
      "source": [
        "name=\"Venky is a good boy.\"\n",
        "X=name.capitalize()\n",
        "print(X)"
      ],
      "metadata": {
        "colab": {
          "base_uri": "https://localhost:8080/"
        },
        "id": "UJXmvwgiy0Kv",
        "outputId": "209be099-9a2f-44a0-e9fd-c4edba6c2bac"
      },
      "execution_count": null,
      "outputs": [
        {
          "output_type": "stream",
          "name": "stdout",
          "text": [
            "Venky is a good boy.\n"
          ]
        }
      ]
    },
    {
      "cell_type": "code",
      "source": [
        "Text=\" my name is chandini.\"\n",
        "d=Text.endswith(\".\")\n",
        "print(d)\n",
        "Text=\"my name is chandini.\"\n",
        "d=Text.endswith(\".\")\n",
        "print(d)\n",
        "#end with point (endswith)"
      ],
      "metadata": {
        "colab": {
          "base_uri": "https://localhost:8080/"
        },
        "id": "Fxq5HzkWdIn7",
        "outputId": "af6aa111-0a22-4220-cec3-3cc80d463fb4"
      },
      "execution_count": null,
      "outputs": [
        {
          "output_type": "stream",
          "name": "stdout",
          "text": [
            "True\n",
            "True\n"
          ]
        }
      ]
    },
    {
      "cell_type": "code",
      "source": [
        "a=[\"a\",\"b\",\"c\"]\n",
        "for x in a:\n",
        "    print(x)"
      ],
      "metadata": {
        "colab": {
          "base_uri": "https://localhost:8080/"
        },
        "id": "tOlLFrmmh6wR",
        "outputId": "5cc7219e-0577-43d4-9e82-1a668221c68a"
      },
      "execution_count": null,
      "outputs": [
        {
          "output_type": "stream",
          "name": "stdout",
          "text": [
            "a\n",
            "b\n",
            "c\n"
          ]
        }
      ]
    },
    {
      "cell_type": "code",
      "source": [
        "for x in \"chandu\":\n",
        "    print(x)"
      ],
      "metadata": {
        "colab": {
          "base_uri": "https://localhost:8080/"
        },
        "id": "73dfoWLyrN3C",
        "outputId": "e02d45cb-3517-483a-9786-0a9f67f90afc"
      },
      "execution_count": null,
      "outputs": [
        {
          "output_type": "stream",
          "name": "stdout",
          "text": [
            "c\n",
            "h\n",
            "a\n",
            "n\n",
            "d\n",
            "u\n"
          ]
        }
      ]
    },
    {
      "cell_type": "code",
      "source": [
        "for x in \"Venkatesh\":\n",
        "     print(x)"
      ],
      "metadata": {
        "colab": {
          "base_uri": "https://localhost:8080/"
        },
        "id": "bsEqFup5rb4N",
        "outputId": "c50bfadc-be97-4318-83f9-8c2f8496dac4"
      },
      "execution_count": null,
      "outputs": [
        {
          "output_type": "stream",
          "name": "stdout",
          "text": [
            "V\n",
            "e\n",
            "n\n",
            "k\n",
            "a\n",
            "t\n",
            "e\n",
            "s\n",
            "h\n"
          ]
        }
      ]
    },
    {
      "cell_type": "code",
      "source": [
        "for x in range(2,10):\n",
        "    if(x%2==0):\n",
        "       print(x)"
      ],
      "metadata": {
        "colab": {
          "base_uri": "https://localhost:8080/"
        },
        "id": "TqOysBJbrkdE",
        "outputId": "fe4c9639-9970-4b9b-9a1d-40a6406cb253"
      },
      "execution_count": null,
      "outputs": [
        {
          "output_type": "stream",
          "name": "stdout",
          "text": [
            "2\n",
            "4\n",
            "6\n",
            "8\n"
          ]
        }
      ]
    },
    {
      "cell_type": "code",
      "source": [
        "for x in range (1,30):\n",
        "      if(x%2==0):\n",
        "        print(x)"
      ],
      "metadata": {
        "colab": {
          "base_uri": "https://localhost:8080/"
        },
        "id": "iG3z494yvG5g",
        "outputId": "30fdb741-5760-4b32-e7ac-61dc94bb075b"
      },
      "execution_count": null,
      "outputs": [
        {
          "output_type": "stream",
          "name": "stdout",
          "text": [
            "2\n",
            "4\n",
            "6\n",
            "8\n",
            "10\n",
            "12\n",
            "14\n",
            "16\n",
            "18\n",
            "20\n",
            "22\n",
            "24\n",
            "26\n",
            "28\n"
          ]
        }
      ]
    },
    {
      "cell_type": "code",
      "source": [
        "name=[\"chandini\",\"Venky\",\"Vishnu\"]\n",
        "for X in name:\n",
        "     print(X)\n",
        "     if X == \"Venky\":\n",
        "           break"
      ],
      "metadata": {
        "colab": {
          "base_uri": "https://localhost:8080/"
        },
        "id": "Q79XE4s3S0EK",
        "outputId": "5e98de80-8abc-42c1-842b-4e76ea3fc342"
      },
      "execution_count": null,
      "outputs": [
        {
          "output_type": "stream",
          "name": "stdout",
          "text": [
            "chandini\n",
            "Venky\n"
          ]
        }
      ]
    },
    {
      "cell_type": "code",
      "source": [
        "for i in range(5):\n",
        "     print(\"*\")"
      ],
      "metadata": {
        "id": "yjnjc0ti3VKA",
        "colab": {
          "base_uri": "https://localhost:8080/"
        },
        "outputId": "f08b3fb7-fecf-4080-d6a3-c225e204cbd6"
      },
      "execution_count": null,
      "outputs": [
        {
          "output_type": "stream",
          "name": "stdout",
          "text": [
            "*\n",
            "*\n",
            "*\n",
            "*\n",
            "*\n"
          ]
        }
      ]
    },
    {
      "cell_type": "code",
      "source": [
        "for i in range (5):\n",
        "     for j in range(5-i):\n",
        "      print(\"*\",end=\" \")"
      ],
      "metadata": {
        "colab": {
          "base_uri": "https://localhost:8080/"
        },
        "id": "UUecN3jxBJFl",
        "outputId": "6396c698-3664-4a45-9664-00b80c8f6dcd"
      },
      "execution_count": null,
      "outputs": [
        {
          "output_type": "stream",
          "name": "stdout",
          "text": [
            "* * * * * * * * * * * * * * * "
          ]
        }
      ]
    },
    {
      "cell_type": "code",
      "source": [
        "for j in range(0,3):\n",
        "  for i in range(0,3):\n",
        "     print(\"*\",end=' ')\n",
        "     print('',end='\\n')"
      ],
      "metadata": {
        "colab": {
          "base_uri": "https://localhost:8080/"
        },
        "id": "GaHRA_XfDpwv",
        "outputId": "4286f03e-5958-424c-990f-2b945627d59f"
      },
      "execution_count": null,
      "outputs": [
        {
          "output_type": "stream",
          "name": "stdout",
          "text": [
            "* \n",
            "* \n",
            "* \n",
            "* \n",
            "* \n",
            "* \n",
            "* \n",
            "* \n",
            "* \n"
          ]
        }
      ]
    },
    {
      "cell_type": "code",
      "source": [
        "for i in range(0,5):\n",
        "     print(\"*\",end=\" \")"
      ],
      "metadata": {
        "colab": {
          "base_uri": "https://localhost:8080/"
        },
        "id": "ue8LyohGCRBS",
        "outputId": "90d0cdc7-dfe3-4dd7-dc51-b5a28bd6e0d7"
      },
      "execution_count": null,
      "outputs": [
        {
          "output_type": "stream",
          "name": "stdout",
          "text": [
            "* * * * * "
          ]
        }
      ]
    },
    {
      "cell_type": "code",
      "source": [
        "n = 5  # Number of rows\n",
        "for i in range(1, n+1):\n",
        "    print(' ' * (n-i) + '*' * (2*i-1))"
      ],
      "metadata": {
        "colab": {
          "base_uri": "https://localhost:8080/"
        },
        "id": "1errQq0PLfhJ",
        "outputId": "adba810b-4a23-466f-ec96-66b01655a9e8"
      },
      "execution_count": null,
      "outputs": [
        {
          "output_type": "stream",
          "name": "stdout",
          "text": [
            "    *\n",
            "   ***\n",
            "  *****\n",
            " *******\n",
            "*********\n"
          ]
        }
      ]
    },
    {
      "cell_type": "code",
      "source": [
        "n = 5\n",
        "for i in range(1, n+1):\n",
        "    print('c' * i)"
      ],
      "metadata": {
        "colab": {
          "base_uri": "https://localhost:8080/"
        },
        "id": "NHaMhEqqLiTn",
        "outputId": "53bd678c-6bd9-4322-814e-fac07428ec89"
      },
      "execution_count": null,
      "outputs": [
        {
          "output_type": "stream",
          "name": "stdout",
          "text": [
            "c\n",
            "cc\n",
            "ccc\n",
            "cccc\n",
            "ccccc\n"
          ]
        }
      ]
    },
    {
      "cell_type": "code",
      "source": [
        "n=5\n",
        "for i in range(n, 0 ,-1):\n",
        "     print('c'*i)"
      ],
      "metadata": {
        "colab": {
          "base_uri": "https://localhost:8080/"
        },
        "id": "XbpeSCLTFLFI",
        "outputId": "145ea75e-b6e7-4560-9be9-ead639627050"
      },
      "execution_count": null,
      "outputs": [
        {
          "output_type": "stream",
          "name": "stdout",
          "text": [
            "ccccc\n",
            "cccc\n",
            "ccc\n",
            "cc\n",
            "c\n"
          ]
        }
      ]
    },
    {
      "cell_type": "code",
      "source": [
        "n=5\n",
        "for i in range(n,0,-1):\n",
        "     print(\" \"*(n-i)+'c' *(2*i-1))"
      ],
      "metadata": {
        "colab": {
          "base_uri": "https://localhost:8080/"
        },
        "id": "CM3ubhGaFjmh",
        "outputId": "4e757a23-ec20-450e-fee3-61c27c56f403"
      },
      "execution_count": null,
      "outputs": [
        {
          "output_type": "stream",
          "name": "stdout",
          "text": [
            "ccccccccc\n",
            " ccccccc\n",
            "  ccccc\n",
            "   ccc\n",
            "    c\n"
          ]
        }
      ]
    },
    {
      "cell_type": "code",
      "source": [
        "n=5\n",
        "#upper half\n",
        "for i in range(1,n+1):\n",
        "     print(\" \"*(n-i)+'*'*(2*i-1))\n",
        "#lower half\n",
        "for i in range(n-1,0-1):\n",
        "     print(\" \"*(n-i)+'*'*(2*i-1))"
      ],
      "metadata": {
        "colab": {
          "base_uri": "https://localhost:8080/"
        },
        "id": "BhXZ4LYKGPkC",
        "outputId": "fc950606-c2da-42a3-b32a-90c1b7dbe606"
      },
      "execution_count": null,
      "outputs": [
        {
          "output_type": "stream",
          "name": "stdout",
          "text": [
            "    *\n",
            "   ***\n",
            "  *****\n",
            " *******\n",
            "*********\n"
          ]
        }
      ]
    },
    {
      "cell_type": "code",
      "source": [
        "def pattern_2(n):\n",
        "    for i in range(n, 0, -1):\n",
        "        print(' '.join(str(i) for _ in range(i)))\n",
        "\n",
        "n = int(input(\"Enter the number of rows: \"))\n",
        "pattern_2(n)"
      ],
      "metadata": {
        "colab": {
          "base_uri": "https://localhost:8080/"
        },
        "id": "GdPVToKLP_Vz",
        "outputId": "c38825dc-7da5-4785-c91c-2cc3377c2995"
      },
      "execution_count": null,
      "outputs": [
        {
          "output_type": "stream",
          "name": "stdout",
          "text": [
            "Enter the number of rows: 6\n",
            "6 6 6 6 6 6\n",
            "5 5 5 5 5\n",
            "4 4 4 4\n",
            "3 3 3\n",
            "2 2\n",
            "1\n"
          ]
        }
      ]
    },
    {
      "cell_type": "code",
      "source": [
        "rows = 5\n",
        "for i in range(1, rows + 1):\n",
        "    for j in range(1, i + 1):\n",
        "        print(j, end=\" \")\n",
        "    print()"
      ],
      "metadata": {
        "colab": {
          "base_uri": "https://localhost:8080/"
        },
        "id": "znISKzbOVDTm",
        "outputId": "dab86ccd-7570-40b5-e45d-919335878547"
      },
      "execution_count": null,
      "outputs": [
        {
          "output_type": "stream",
          "name": "stdout",
          "text": [
            "1 \n",
            "1 2 \n",
            "1 2 3 \n",
            "1 2 3 4 \n",
            "1 2 3 4 5 \n"
          ]
        }
      ]
    },
    {
      "cell_type": "code",
      "source": [
        "n = 5\n",
        "for i in range(1, n+1):\n",
        "    for j in range(i, 0, -1):\n",
        "        print(j, end=\" \")\n",
        "    print()"
      ],
      "metadata": {
        "colab": {
          "base_uri": "https://localhost:8080/"
        },
        "id": "a5jmkyynWLBl",
        "outputId": "97cf666b-b9ce-4b2e-ef0d-b3509aa9a96e"
      },
      "execution_count": null,
      "outputs": [
        {
          "output_type": "stream",
          "name": "stdout",
          "text": [
            "1 \n",
            "2 1 \n",
            "3 2 1 \n",
            "4 3 2 1 \n",
            "5 4 3 2 1 \n"
          ]
        }
      ]
    },
    {
      "cell_type": "code",
      "source": [
        "for i in range(1, 6):\n",
        "    for j in range(1, 6-i):\n",
        "        print(\" \", end=\"\")\n",
        "    for j in range(1, i+1):\n",
        "        print(j, end=\"\")\n",
        "    for j in range(i-1, 0, -1):\n",
        "        print(j, end=\"\")\n",
        "    print()"
      ],
      "metadata": {
        "colab": {
          "base_uri": "https://localhost:8080/"
        },
        "id": "uGwi7lJOWgLD",
        "outputId": "2d836a7a-30db-4fee-ed86-1dfaa6285a95"
      },
      "execution_count": null,
      "outputs": [
        {
          "output_type": "stream",
          "name": "stdout",
          "text": [
            "    1\n",
            "   121\n",
            "  12321\n",
            " 1234321\n",
            "123454321\n"
          ]
        }
      ]
    },
    {
      "cell_type": "code",
      "source": [
        "for i in range(5, 0, -1):\n",
        "    for j in range(1, 6-i):\n",
        "        print(\" \", end=\"\")\n",
        "    for j in range(1, i+1):\n",
        "        print(j, end=\"\")\n",
        "    for j in range(i-1, 0, -1):\n",
        "        print(j, end=\"\")\n",
        "    print()"
      ],
      "metadata": {
        "colab": {
          "base_uri": "https://localhost:8080/"
        },
        "id": "pv86FV3kWkQN",
        "outputId": "d9144483-0816-4c6a-f559-11a32869d0e5"
      },
      "execution_count": null,
      "outputs": [
        {
          "output_type": "stream",
          "name": "stdout",
          "text": [
            "123454321\n",
            " 1234321\n",
            "  12321\n",
            "   121\n",
            "    1\n"
          ]
        }
      ]
    },
    {
      "cell_type": "code",
      "source": [
        "for i in range(1, 5):\n",
        "    for j in range(1, 5):\n",
        "        print(i, end=\" \")\n",
        "    print()"
      ],
      "metadata": {
        "colab": {
          "base_uri": "https://localhost:8080/"
        },
        "id": "z2TJIAMtWobJ",
        "outputId": "e3d9cd4b-daa5-480c-bf2d-f8f1dbd6f322"
      },
      "execution_count": null,
      "outputs": [
        {
          "output_type": "stream",
          "name": "stdout",
          "text": [
            "1 1 1 1 \n",
            "2 2 2 2 \n",
            "3 3 3 3 \n",
            "4 4 4 4 \n"
          ]
        }
      ]
    },
    {
      "cell_type": "code",
      "source": [
        "\n",
        "for i in range(1, 6):\n",
        "    for j in range(1, 6-i):\n",
        "        print(\" \", end=\"\")\n",
        "    for j in range(1, i+1):\n",
        "        print(j, end=\"\")\n",
        "    for j in range(i-1, 0, -1):\n",
        "        print(j, end=\"\")\n",
        "    print()\n",
        "for i in range(4, 0, -1):\n",
        "    for j in range(1, 6-i):\n",
        "        print(\" \", end=\"\")\n",
        "    for j in range(1, i+1):\n",
        "        print(j, end=\"\")\n",
        "    for j in range(i-1, 0, -1):\n",
        "        print(j, end=\"\")\n",
        "    print()"
      ],
      "metadata": {
        "colab": {
          "base_uri": "https://localhost:8080/"
        },
        "id": "HeIyh0J7Wt_g",
        "outputId": "51c023e1-a021-4efb-e0f5-8a65ef565c9b"
      },
      "execution_count": null,
      "outputs": [
        {
          "output_type": "stream",
          "name": "stdout",
          "text": [
            "    1\n",
            "   121\n",
            "  12321\n",
            " 1234321\n",
            "123454321\n",
            " 1234321\n",
            "  12321\n",
            "   121\n",
            "    1\n"
          ]
        }
      ]
    },
    {
      "cell_type": "code",
      "source": [
        "for i in range(1, 6):\n",
        "    for j in range(1, i + 1):\n",
        "        print(j, end=\"\")\n",
        "    print()"
      ],
      "metadata": {
        "colab": {
          "base_uri": "https://localhost:8080/"
        },
        "id": "RVLJvMIGZvgY",
        "outputId": "37271122-5793-4aa8-98af-9f6d07db649c"
      },
      "execution_count": null,
      "outputs": [
        {
          "output_type": "stream",
          "name": "stdout",
          "text": [
            "1\n",
            "12\n",
            "123\n",
            "1234\n",
            "12345\n"
          ]
        }
      ]
    },
    {
      "cell_type": "code",
      "source": [
        "for i in range(5, 0, -1):\n",
        "    for j in range(65, 65 + i):\n",
        "        print(chr(j), end=\"\")\n",
        "    print()"
      ],
      "metadata": {
        "colab": {
          "base_uri": "https://localhost:8080/"
        },
        "id": "qgQULIgPatOj",
        "outputId": "cf58dcec-0280-46af-b49f-0203d8f31ba8"
      },
      "execution_count": null,
      "outputs": [
        {
          "output_type": "stream",
          "name": "stdout",
          "text": [
            "ABCDE\n",
            "ABCD\n",
            "ABC\n",
            "AB\n",
            "A\n"
          ]
        }
      ]
    },
    {
      "cell_type": "code",
      "source": [
        "for i in range(1, 6):\n",
        "    for j in range(65, 65 + i):\n",
        "        print(chr(j), end=\"\")\n",
        "    for k in range(1, i + 1):\n",
        "        print(k, end=\"\")\n",
        "    print()"
      ],
      "metadata": {
        "colab": {
          "base_uri": "https://localhost:8080/"
        },
        "id": "s28qjdFabIWf",
        "outputId": "4740123e-cb89-4ebb-b9f2-a61694c28005"
      },
      "execution_count": null,
      "outputs": [
        {
          "output_type": "stream",
          "name": "stdout",
          "text": [
            "A1\n",
            "AB12\n",
            "ABC123\n",
            "ABCD1234\n",
            "ABCDE12345\n"
          ]
        }
      ]
    },
    {
      "cell_type": "code",
      "source": [
        "for i in range(5, 0, -1):\n",
        "    for j in range(65, 65 + i):\n",
        "        print(chr(j), end=\"\")\n",
        "    print()"
      ],
      "metadata": {
        "colab": {
          "base_uri": "https://localhost:8080/"
        },
        "id": "VAV-ToeEb7F9",
        "outputId": "9c5791eb-c2d7-4582-dfef-e9fae3b073f8"
      },
      "execution_count": null,
      "outputs": [
        {
          "output_type": "stream",
          "name": "stdout",
          "text": [
            "ABCDE\n",
            "ABCD\n",
            "ABC\n",
            "AB\n",
            "A\n"
          ]
        }
      ]
    },
    {
      "cell_type": "code",
      "source": [
        "name = [\"chandu\", \"Venky\", \"Vishnu\",\"chinna\"]\n",
        "for x in name:\n",
        "  print(x)\n",
        "  if x == \"Vishnu\":\n",
        "    break"
      ],
      "metadata": {
        "colab": {
          "base_uri": "https://localhost:8080/"
        },
        "id": "lhgaBnXV_3Q0",
        "outputId": "e48cb51d-9809-4f13-f960-0ccf557b4d75"
      },
      "execution_count": null,
      "outputs": [
        {
          "output_type": "stream",
          "name": "stdout",
          "text": [
            "chandu\n",
            "Venky\n",
            "Vishnu\n"
          ]
        }
      ]
    },
    {
      "cell_type": "code",
      "source": [
        "name = [\"chandu\", \"Venky\", \"Vishnu\"]\n",
        "for x in name:\n",
        "  if x == \"Venky\":\n",
        "    break\n",
        "  print(x)"
      ],
      "metadata": {
        "colab": {
          "base_uri": "https://localhost:8080/"
        },
        "id": "zCe-ualAAZUW",
        "outputId": "84063c4a-3ac8-41e2-a5ee-de94c13d8044"
      },
      "execution_count": null,
      "outputs": [
        {
          "output_type": "stream",
          "name": "stdout",
          "text": [
            "chandu\n"
          ]
        }
      ]
    },
    {
      "cell_type": "code",
      "source": [
        "fruits = [\"apple\", \"banana\", \"cherry\"]\n",
        "for x in fruits:\n",
        "  if x == \"banana\":\n",
        "    continue\n",
        "  print(x)"
      ],
      "metadata": {
        "colab": {
          "base_uri": "https://localhost:8080/"
        },
        "id": "eNkp27DJBK4h",
        "outputId": "3560b001-b596-4265-8c4e-844bb0a48374"
      },
      "execution_count": null,
      "outputs": [
        {
          "output_type": "stream",
          "name": "stdout",
          "text": [
            "apple\n",
            "cherry\n"
          ]
        }
      ]
    },
    {
      "cell_type": "code",
      "source": [
        "adj = [\"chandu\", \"chandu\", \"chandu\",\"chandu\"]\n",
        "fruits = [\"Venky\", \"Venky\", \"Venky\",\"Venky\"]\n",
        "\n",
        "for x in adj:\n",
        "  for y in fruits:\n",
        "    print(x, y)"
      ],
      "metadata": {
        "colab": {
          "base_uri": "https://localhost:8080/"
        },
        "id": "ywAZ6GSZBlO-",
        "outputId": "78b09ac9-af60-4d78-b621-cc5068211a59"
      },
      "execution_count": null,
      "outputs": [
        {
          "output_type": "stream",
          "name": "stdout",
          "text": [
            "chandu Venky\n",
            "chandu Venky\n",
            "chandu Venky\n",
            "chandu Venky\n",
            "chandu Venky\n",
            "chandu Venky\n",
            "chandu Venky\n",
            "chandu Venky\n",
            "chandu Venky\n",
            "chandu Venky\n",
            "chandu Venky\n",
            "chandu Venky\n",
            "chandu Venky\n",
            "chandu Venky\n",
            "chandu Venky\n",
            "chandu Venky\n"
          ]
        }
      ]
    },
    {
      "cell_type": "code",
      "source": [
        "X=[1,2,3,4,5]\n",
        "A=[i**2 for i in X]\n",
        "print(A)"
      ],
      "metadata": {
        "colab": {
          "base_uri": "https://localhost:8080/"
        },
        "id": "9Y54fjf0XbUZ",
        "outputId": "0dcb03ac-a73a-4fc0-a423-ea7443f2144e"
      },
      "execution_count": null,
      "outputs": [
        {
          "output_type": "stream",
          "name": "stdout",
          "text": [
            "[1, 4, 9, 16, 25]\n"
          ]
        }
      ]
    },
    {
      "cell_type": "code",
      "source": [
        "X=[1,2,3,4,5]\n",
        "squares=[]\n",
        "for X in numbers:\n",
        "  squares.append(X**2)\n",
        "print(squares)"
      ],
      "metadata": {
        "colab": {
          "base_uri": "https://localhost:8080/"
        },
        "id": "TiKzk1QVZh2G",
        "outputId": "0428158e-74c9-4b6e-e2e1-8f1936ccf8f6"
      },
      "execution_count": null,
      "outputs": [
        {
          "output_type": "stream",
          "name": "stdout",
          "text": [
            "[1, 4, 9, 16, 25]\n"
          ]
        }
      ]
    },
    {
      "cell_type": "code",
      "source": [
        "X=[1,2,3,4,5]\n",
        "A=[]\n",
        "for X in numbers:\n",
        " if X % 2==0:\n",
        "  A.append(X)\n",
        "print(A)"
      ],
      "metadata": {
        "colab": {
          "base_uri": "https://localhost:8080/"
        },
        "id": "nBxXtIMIdCWz",
        "outputId": "7a1ae4b1-bb72-4e9e-e34e-c94e89790639"
      },
      "execution_count": null,
      "outputs": [
        {
          "output_type": "stream",
          "name": "stdout",
          "text": [
            "[2, 4]\n"
          ]
        }
      ]
    },
    {
      "cell_type": "code",
      "source": [
        "a=[\"apple\",\"banana\",\"grapes\"]\n",
        "for i in a:\n",
        "    print(i)"
      ],
      "metadata": {
        "id": "s02q_WpKSq08",
        "colab": {
          "base_uri": "https://localhost:8080/"
        },
        "outputId": "4a629ab1-4831-4ab5-b3fb-1e2974ddb9ee"
      },
      "execution_count": null,
      "outputs": [
        {
          "output_type": "stream",
          "name": "stdout",
          "text": [
            "apple\n",
            "banana\n",
            "grapes\n"
          ]
        }
      ]
    },
    {
      "cell_type": "code",
      "source": [
        "for i in range (5):\n",
        "     print(\"c\")"
      ],
      "metadata": {
        "colab": {
          "base_uri": "https://localhost:8080/"
        },
        "id": "1ovD_cs5_5bb",
        "outputId": "b17401dc-e062-4993-889a-e43b183618d0"
      },
      "execution_count": null,
      "outputs": [
        {
          "output_type": "stream",
          "name": "stdout",
          "text": [
            "c\n",
            "c\n",
            "c\n",
            "c\n",
            "c\n"
          ]
        }
      ]
    },
    {
      "cell_type": "code",
      "source": [
        "#include<studio.h>\n",
        "int main( )\n",
        "{\n",
        "Const char*name=\"sorry\":\n",
        "for(int i=0;i<100;i++)\n",
        "{\n",
        "  Printf(\"%s\\n\",name);\n",
        "}\n",
        "  return 0;\n",
        "}"
      ],
      "metadata": {
        "id": "KppVkRFSCj8u",
        "colab": {
          "base_uri": "https://localhost:8080/",
          "height": 124
        },
        "outputId": "41e368bb-6e6b-4ad3-bb21-4c68864df87f"
      },
      "execution_count": null,
      "outputs": [
        {
          "output_type": "error",
          "ename": "SyntaxError",
          "evalue": "invalid syntax (<ipython-input-4-88462791f91f>, line 2)",
          "traceback": [
            "\u001b[0;36m  File \u001b[0;32m\"<ipython-input-4-88462791f91f>\"\u001b[0;36m, line \u001b[0;32m2\u001b[0m\n\u001b[0;31m    int main( )\u001b[0m\n\u001b[0m        ^\u001b[0m\n\u001b[0;31mSyntaxError\u001b[0m\u001b[0;31m:\u001b[0m invalid syntax\n"
          ]
        }
      ]
    },
    {
      "cell_type": "code",
      "source": [
        "\n",
        "number = int(input(\"Enter a number: \"))\n",
        "if number % 2 == 0:\n",
        "    print(\"number is even.\")\n",
        "else:\n",
        "    print(\"number is odd.\")"
      ],
      "metadata": {
        "colab": {
          "base_uri": "https://localhost:8080/"
        },
        "id": "Xqsve-x4JrCD",
        "outputId": "7c532cfc-2bd8-4020-dc31-5292b548642e"
      },
      "execution_count": null,
      "outputs": [
        {
          "output_type": "stream",
          "name": "stdout",
          "text": [
            "Enter a number: 1425\n",
            "number is odd.\n"
          ]
        }
      ]
    },
    {
      "cell_type": "code",
      "source": [
        "a=5\n",
        "b=9\n",
        "c=10\n",
        "print(\"a is less than b\")\n",
        "print(\"b is less than c\")\n",
        "print(\"c is is dig\")"
      ],
      "metadata": {
        "colab": {
          "base_uri": "https://localhost:8080/"
        },
        "id": "sOyGTO5KK-ho",
        "outputId": "6ea5791c-f801-4a64-8f3f-2abfeb042c35"
      },
      "execution_count": null,
      "outputs": [
        {
          "output_type": "stream",
          "name": "stdout",
          "text": [
            "a is less than b\n",
            "b is less than c\n",
            "c is is dig\n"
          ]
        }
      ]
    },
    {
      "cell_type": "code",
      "source": [
        "def my_function(*ice_cream):\n",
        "    print(\"The ice cream flavour is \" + ice_cream[2])\n",
        "my_function(\"vannila\",\"Choco\",\"chocolate\")"
      ],
      "metadata": {
        "colab": {
          "base_uri": "https://localhost:8080/"
        },
        "id": "54YSTEpmE91R",
        "outputId": "3323dd17-67bb-4386-a2bc-4f3cb4cbc6d7"
      },
      "execution_count": null,
      "outputs": [
        {
          "output_type": "stream",
          "name": "stdout",
          "text": [
            "The ice cream flavour is chocolate\n"
          ]
        }
      ]
    },
    {
      "cell_type": "code",
      "source": [
        "def my_function(child1, child2, child3):\n",
        "    print(\"The smallest child is \" + child2)\n",
        "my_function(child1=\"chandu\",child2=\"vishnu\", child3=\"sandhya\")"
      ],
      "metadata": {
        "colab": {
          "base_uri": "https://localhost:8080/"
        },
        "id": "GZ-GurAxILLn",
        "outputId": "07c0bdc0-bd18-411a-9be7-d7213bc3b98b"
      },
      "execution_count": null,
      "outputs": [
        {
          "output_type": "stream",
          "name": "stdout",
          "text": [
            "The smallest child is vishnu\n"
          ]
        }
      ]
    },
    {
      "cell_type": "code",
      "source": [
        "x=3\n",
        "y=3\n",
        "print(x+y)"
      ],
      "metadata": {
        "colab": {
          "base_uri": "https://localhost:8080/"
        },
        "id": "85QoEFDO5Ql2",
        "outputId": "92486d12-41da-480c-a280-ae54c734d6ba"
      },
      "execution_count": null,
      "outputs": [
        {
          "output_type": "stream",
          "name": "stdout",
          "text": [
            "6\n"
          ]
        }
      ]
    },
    {
      "cell_type": "code",
      "source": [
        "x=1\n",
        "print(x)\n",
        "type(x)"
      ],
      "metadata": {
        "colab": {
          "base_uri": "https://localhost:8080/"
        },
        "id": "e3zfXKtM5pep",
        "outputId": "f5254b0e-90cc-427a-93e5-37be5342e1ab"
      },
      "execution_count": null,
      "outputs": [
        {
          "output_type": "stream",
          "name": "stdout",
          "text": [
            "1\n"
          ]
        },
        {
          "output_type": "execute_result",
          "data": {
            "text/plain": [
              "int"
            ]
          },
          "metadata": {},
          "execution_count": 6
        }
      ]
    },
    {
      "cell_type": "code",
      "source": [
        "x=0.1\n",
        "print(x)\n",
        "type(x)"
      ],
      "metadata": {
        "colab": {
          "base_uri": "https://localhost:8080/"
        },
        "id": "GAm5iHiY6e-9",
        "outputId": "348f1b0d-7c93-4fd9-dc2f-4f56213568ec"
      },
      "execution_count": null,
      "outputs": [
        {
          "output_type": "stream",
          "name": "stdout",
          "text": [
            "0.1\n"
          ]
        },
        {
          "output_type": "execute_result",
          "data": {
            "text/plain": [
              "float"
            ]
          },
          "metadata": {},
          "execution_count": 7
        }
      ]
    },
    {
      "cell_type": "code",
      "source": [
        "x=3\n",
        "x=9\n",
        "print(x)\n",
        "type(x)"
      ],
      "metadata": {
        "colab": {
          "base_uri": "https://localhost:8080/"
        },
        "id": "jD_avNjh6uEU",
        "outputId": "c5aefe78-1930-4927-cf09-4fa84bf08b9b"
      },
      "execution_count": null,
      "outputs": [
        {
          "output_type": "stream",
          "name": "stdout",
          "text": [
            "9\n"
          ]
        },
        {
          "output_type": "execute_result",
          "data": {
            "text/plain": [
              "int"
            ]
          },
          "metadata": {},
          "execution_count": 9
        }
      ]
    },
    {
      "cell_type": "code",
      "source": [
        "x=7\n",
        "x=\"7\"\n",
        "print(x)"
      ],
      "metadata": {
        "colab": {
          "base_uri": "https://localhost:8080/"
        },
        "id": "_l36D3aN65m8",
        "outputId": "9f9addf1-ebeb-4f0d-abb3-6d02d7c735f6"
      },
      "execution_count": null,
      "outputs": [
        {
          "output_type": "stream",
          "name": "stdout",
          "text": [
            "7\n"
          ]
        }
      ]
    },
    {
      "cell_type": "code",
      "source": [
        "x=\"7\"\n",
        "x=7\n",
        "print(x)"
      ],
      "metadata": {
        "colab": {
          "base_uri": "https://localhost:8080/"
        },
        "id": "r5R9-JVR7UTN",
        "outputId": "7885bca7-e784-4de1-d12d-a3b4d042da79"
      },
      "execution_count": null,
      "outputs": [
        {
          "output_type": "stream",
          "name": "stdout",
          "text": [
            "7\n"
          ]
        }
      ]
    },
    {
      "cell_type": "code",
      "source": [
        "x=(1,2,3,4,5)\n",
        "print(x)"
      ],
      "metadata": {
        "colab": {
          "base_uri": "https://localhost:8080/"
        },
        "id": "m3yV2OXt7ltD",
        "outputId": "85f722af-dbee-4fdc-d43e-41792201d16b"
      },
      "execution_count": null,
      "outputs": [
        {
          "output_type": "stream",
          "name": "stdout",
          "text": [
            "(1, 2, 3, 4, 5)\n"
          ]
        }
      ]
    },
    {
      "cell_type": "code",
      "source": [
        "x=(\"1\",\"2\",\"3\",\"4\",\"5\")\n",
        "print(x)"
      ],
      "metadata": {
        "colab": {
          "base_uri": "https://localhost:8080/"
        },
        "id": "h9kyadnP7uhk",
        "outputId": "a905edb7-a9d3-4a60-bf10-96acc754f7ba"
      },
      "execution_count": null,
      "outputs": [
        {
          "output_type": "stream",
          "name": "stdout",
          "text": [
            "('1', '2', '3', '4', '5')\n"
          ]
        }
      ]
    },
    {
      "cell_type": "code",
      "source": [
        "x={\"1\",\"2\",\"3\"}\n",
        "print(x)"
      ],
      "metadata": {
        "colab": {
          "base_uri": "https://localhost:8080/"
        },
        "id": "bW2LptPm8Ggn",
        "outputId": "008465e9-d824-4758-b114-393625fb824a"
      },
      "execution_count": null,
      "outputs": [
        {
          "output_type": "stream",
          "name": "stdout",
          "text": [
            "{'3', '2', '1'}\n"
          ]
        }
      ]
    },
    {
      "cell_type": "code",
      "source": [
        "x=[\"1\",\"2\",\"3\"]\n",
        "print(x)"
      ],
      "metadata": {
        "colab": {
          "base_uri": "https://localhost:8080/"
        },
        "id": "c53s1sFw8e-S",
        "outputId": "db6b15f6-bea9-453f-ba0f-aeba31c070b8"
      },
      "execution_count": null,
      "outputs": [
        {
          "output_type": "stream",
          "name": "stdout",
          "text": [
            "['1', '2', '3']\n"
          ]
        }
      ]
    },
    {
      "cell_type": "code",
      "source": [
        "x=\"1,2,3,4,5\"\n",
        "print(x)"
      ],
      "metadata": {
        "colab": {
          "base_uri": "https://localhost:8080/"
        },
        "id": "8b_L-Ce-9Sg0",
        "outputId": "c221562b-f4ea-4051-9cb2-a7f936336fd7"
      },
      "execution_count": null,
      "outputs": [
        {
          "output_type": "stream",
          "name": "stdout",
          "text": [
            "1,2,3,4,5\n"
          ]
        }
      ]
    },
    {
      "cell_type": "code",
      "source": [
        "l=3\n",
        "b=4\n",
        "Area=0.5*l*b\n",
        "print(Area)"
      ],
      "metadata": {
        "colab": {
          "base_uri": "https://localhost:8080/"
        },
        "id": "41mHKz6ZCQzU",
        "outputId": "e0c51ef9-7572-42b3-da7d-4e2f1179eea9"
      },
      "execution_count": null,
      "outputs": [
        {
          "output_type": "stream",
          "name": "stdout",
          "text": [
            "6.0\n"
          ]
        }
      ]
    },
    {
      "cell_type": "code",
      "source": [
        "l=7\n",
        "b=4\n",
        "Area=l*b\n",
        "print(Area)"
      ],
      "metadata": {
        "colab": {
          "base_uri": "https://localhost:8080/"
        },
        "id": "EMZ80sOhDV9V",
        "outputId": "133f00cf-c0bf-4dca-d287-e098bc972323"
      },
      "execution_count": null,
      "outputs": [
        {
          "output_type": "stream",
          "name": "stdout",
          "text": [
            "28\n"
          ]
        }
      ]
    },
    {
      "cell_type": "code",
      "source": [
        "a=int(input())\n",
        "print(\"eligible for vote\",a>=18)\n",
        "pri≤nt(\"not eligible for vote\",a<=18)"
      ],
      "metadata": {
        "colab": {
          "base_uri": "https://localhost:8080/"
        },
        "id": "Yn0Ph-k-FnpV",
        "outputId": "a6941758-f0e2-4b2f-da47-5300cf6400ed"
      },
      "execution_count": null,
      "outputs": [
        {
          "output_type": "stream",
          "name": "stdout",
          "text": [
            "20\n",
            "eligible for vote True\n",
            "not eligible for vote False\n"
          ]
        }
      ]
    },
    {
      "cell_type": "code",
      "source": [
        "a=int(input())\n",
        "print(\"a is even\", a%2==0)\n",
        "print(\"a is odd\", a%2!=0)"
      ],
      "metadata": {
        "colab": {
          "base_uri": "https://localhost:8080/"
        },
        "id": "amoyaeU5IQym",
        "outputId": "fa20fae8-75e4-4f15-85d5-933911d62f59"
      },
      "execution_count": null,
      "outputs": [
        {
          "output_type": "stream",
          "name": "stdout",
          "text": [
            "15\n",
            "a is even False\n",
            "a is odd True\n"
          ]
        }
      ]
    },
    {
      "cell_type": "code",
      "source": [
        "\n",
        "a=int(input())\n",
        "if(a%4==0 and a%5==0):\n",
        "   print(\"fizz,buzz\")\n",
        "elif(a%5==0):\n",
        "   print(\"fizz\")\n",
        "elif(a%4==0):\n",
        "   print(\"buzz\")\n",
        "else:\n",
        "   print(\"not valid\")"
      ],
      "metadata": {
        "colab": {
          "base_uri": "https://localhost:8080/"
        },
        "id": "b4fChvSOhKIu",
        "outputId": "b13921b0-eebb-47a5-db5a-0c34c715c861"
      },
      "execution_count": null,
      "outputs": [
        {
          "output_type": "stream",
          "name": "stdout",
          "text": [
            "30\n",
            "fizz\n"
          ]
        }
      ]
    },
    {
      "cell_type": "code",
      "source": [
        "A=int(input())\n",
        "B=int(input())\n",
        "print(A+B)\n",
        "print(A-B)\n",
        "print(A/B)\n",
        "print(A*B)\n",
        "print(A%B)"
      ],
      "metadata": {
        "colab": {
          "base_uri": "https://localhost:8080/"
        },
        "id": "SBT7PNR4kASO",
        "outputId": "4b7e6d1c-3d59-4185-cbfe-c1231791e9d3"
      },
      "execution_count": null,
      "outputs": [
        {
          "output_type": "stream",
          "name": "stdout",
          "text": [
            "8\n",
            "9\n",
            "17\n",
            "-1\n",
            "0.8888888888888888\n",
            "72\n",
            "8\n"
          ]
        }
      ]
    },
    {
      "cell_type": "code",
      "source": [
        "a=int(input())\n",
        "if(20<0):\n",
        "   print(\"charging\")\n",
        "elif(20>50):\n",
        "   print(\"less uses\")\n",
        "else:\n",
        "   print(\"more uses\")"
      ],
      "metadata": {
        "colab": {
          "base_uri": "https://localhost:8080/"
        },
        "id": "ZqzQjSpXJcBu",
        "outputId": "fd17ca82-827c-42ec-8195-4b3e8137af5d"
      },
      "execution_count": null,
      "outputs": [
        {
          "output_type": "stream",
          "name": "stdout",
          "text": [
            "70\n",
            "more uses\n"
          ]
        }
      ]
    },
    {
      "cell_type": "code",
      "source": [
        "for i in range(2,20,2):\n",
        "   print(i)"
      ],
      "metadata": {
        "colab": {
          "base_uri": "https://localhost:8080/"
        },
        "id": "qWMZnkyoMIuD",
        "outputId": "63f34ef6-59f8-4209-f9fd-5d0f13cd015e"
      },
      "execution_count": null,
      "outputs": [
        {
          "output_type": "stream",
          "name": "stdout",
          "text": [
            "2\n",
            "4\n",
            "6\n",
            "8\n",
            "10\n",
            "12\n",
            "14\n",
            "16\n",
            "18\n"
          ]
        }
      ]
    },
    {
      "cell_type": "code",
      "source": [
        "Fruit=[\"apple\", \"grapes\", \"banana\"]\n",
        "for i in Fruit:\n",
        "    print(i)"
      ],
      "metadata": {
        "colab": {
          "base_uri": "https://localhost:8080/"
        },
        "id": "HG8kJAk_PjUA",
        "outputId": "d31d262e-ae42-4a38-b51b-0c9712fd6635"
      },
      "execution_count": null,
      "outputs": [
        {
          "output_type": "stream",
          "name": "stdout",
          "text": [
            "apple\n",
            "grapes\n",
            "banana\n"
          ]
        }
      ]
    },
    {
      "cell_type": "code",
      "source": [
        "Fruit=[\"apple\", \"grapes\", \"banana\"]\n",
        "for Fruit in Fruit:\n",
        "    print(i)"
      ],
      "metadata": {
        "colab": {
          "base_uri": "https://localhost:8080/"
        },
        "id": "AcprElFhRmpN",
        "outputId": "5515ac42-23b4-4fb4-ff00-b81d3a4c3cac"
      },
      "execution_count": null,
      "outputs": [
        {
          "output_type": "stream",
          "name": "stdout",
          "text": [
            "banana\n",
            "banana\n",
            "banana\n"
          ]
        }
      ]
    },
    {
      "cell_type": "code",
      "source": [
        "r=int(input())\n",
        "circle=2*3.141*r\n",
        "print(circle)"
      ],
      "metadata": {
        "colab": {
          "base_uri": "https://localhost:8080/"
        },
        "id": "z-cEPVRVlJP5",
        "outputId": "f5196217-bb57-47c5-c470-200792887e74"
      },
      "execution_count": null,
      "outputs": [
        {
          "output_type": "stream",
          "name": "stdout",
          "text": [
            "10\n",
            "62.82\n"
          ]
        }
      ]
    },
    {
      "cell_type": "code",
      "source": [
        "c=int(input())\n",
        "if(c<10):\n",
        "   print(True)\n",
        "else:\n",
        "   print(false)"
      ],
      "metadata": {
        "colab": {
          "base_uri": "https://localhost:8080/"
        },
        "id": "f8bqS_qQBz5V",
        "outputId": "35ab24da-21c8-48c0-9840-a13c0d0e9aea"
      },
      "execution_count": null,
      "outputs": [
        {
          "output_type": "stream",
          "name": "stdout",
          "text": [
            "9\n",
            "True\n"
          ]
        }
      ]
    },
    {
      "cell_type": "code",
      "source": [
        "c=input()\n",
        "if(c==\"green\"):\n",
        "   print(\"found\")\n",
        "else:\n",
        "   print(\"not found\")"
      ],
      "metadata": {
        "colab": {
          "base_uri": "https://localhost:8080/"
        },
        "id": "gCOSbE31DHP-",
        "outputId": "9d4f49ad-2bcc-48e7-ba29-c1548a29a59b"
      },
      "execution_count": null,
      "outputs": [
        {
          "output_type": "stream",
          "name": "stdout",
          "text": [
            "green\n",
            "found\n"
          ]
        }
      ]
    },
    {
      "cell_type": "code",
      "source": [
        "C=int(input())\n",
        "if(C>10):\n",
        "   print(\"greater than\")\n",
        "elif(C==10):\n",
        "   print(\"equal\")\n",
        "else:\n",
        "   print(\"less than\")"
      ],
      "metadata": {
        "colab": {
          "base_uri": "https://localhost:8080/"
        },
        "id": "Yt6znqFCEZaD",
        "outputId": "fa56212f-9ae0-4f48-f5a0-84453699ec38"
      },
      "execution_count": null,
      "outputs": [
        {
          "output_type": "stream",
          "name": "stdout",
          "text": [
            "73\n",
            "greater than\n"
          ]
        }
      ]
    },
    {
      "cell_type": "code",
      "source": [
        "for i in range(1,6):\n",
        "  for j in range(1,6):\n",
        "   print(\"*\",end=\" \")\n",
        "  print()"
      ],
      "metadata": {
        "colab": {
          "base_uri": "https://localhost:8080/"
        },
        "id": "nRQSXOJqQ3zR",
        "outputId": "54a24731-6bde-446b-9b5e-21f819bc032a"
      },
      "execution_count": null,
      "outputs": [
        {
          "output_type": "stream",
          "name": "stdout",
          "text": [
            "* * * * * \n",
            "* * * * * \n",
            "* * * * * \n",
            "* * * * * \n",
            "* * * * * \n"
          ]
        }
      ]
    },
    {
      "cell_type": "code",
      "source": [
        "for i in range(1,6):\n",
        "   for j in range(1,6):\n",
        "     print(j,end=\"\")\n",
        "   print()"
      ],
      "metadata": {
        "id": "LMZyitJcYnKg",
        "colab": {
          "base_uri": "https://localhost:8080/"
        },
        "outputId": "665f803e-fca0-48e6-c921-5329e543db42"
      },
      "execution_count": null,
      "outputs": [
        {
          "output_type": "stream",
          "name": "stdout",
          "text": [
            "12345\n",
            "12345\n",
            "12345\n",
            "12345\n",
            "12345\n"
          ]
        }
      ]
    },
    {
      "cell_type": "code",
      "source": [
        "for i in range(1,10):\n",
        "    for j in range(1,10):\n",
        "      print(\"💙\",end=\"\")\n",
        "    print()"
      ],
      "metadata": {
        "colab": {
          "base_uri": "https://localhost:8080/"
        },
        "id": "1VgwDzdUJkhh",
        "outputId": "140be497-6301-4a2a-b841-85e2b3d672c6"
      },
      "execution_count": null,
      "outputs": [
        {
          "output_type": "stream",
          "name": "stdout",
          "text": [
            "💙💙💙💙💙💙💙💙💙\n",
            "💙💙💙💙💙💙💙💙💙\n",
            "💙💙💙💙💙💙💙💙💙\n",
            "💙💙💙💙💙💙💙💙💙\n",
            "💙💙💙💙💙💙💙💙💙\n",
            "💙💙💙💙💙💙💙💙💙\n",
            "💙💙💙💙💙💙💙💙💙\n",
            "💙💙💙💙💙💙💙💙💙\n",
            "💙💙💙💙💙💙💙💙💙\n"
          ]
        }
      ]
    },
    {
      "cell_type": "code",
      "source": [
        "for i in range(1,5):\n",
        "  for j in range(1,i+1):\n",
        "    print(\"*\",end=\" \")\n",
        "  print()"
      ],
      "metadata": {
        "colab": {
          "base_uri": "https://localhost:8080/"
        },
        "id": "DGiKu2aQMao7",
        "outputId": "fc0b08d7-a499-4b17-a838-1dd8284697db"
      },
      "execution_count": null,
      "outputs": [
        {
          "output_type": "stream",
          "name": "stdout",
          "text": [
            "* \n",
            "* * \n",
            "* * * \n",
            "* * * * \n"
          ]
        }
      ]
    },
    {
      "cell_type": "code",
      "source": [
        "for i in range(1,6):\n",
        "  for j in range(1+i,6):\n",
        "    print(\"*\",end=\" \")\n",
        "  print()"
      ],
      "metadata": {
        "colab": {
          "base_uri": "https://localhost:8080/"
        },
        "id": "DKFe02YUMi8i",
        "outputId": "0a13ba75-354d-4aec-8303-fa5c2cd5b529"
      },
      "execution_count": null,
      "outputs": [
        {
          "output_type": "stream",
          "name": "stdout",
          "text": [
            "* * * * \n",
            "* * * \n",
            "* * \n",
            "* \n",
            "\n"
          ]
        }
      ]
    },
    {
      "cell_type": "code",
      "source": [
        "n=int(input())\n",
        "for i in range(65,n):\n",
        "    for j in range(65,i+1):\n",
        "        print(j,end=\" \")\n",
        "    print()"
      ],
      "metadata": {
        "colab": {
          "base_uri": "https://localhost:8080/"
        },
        "id": "7p3fB1IrTdFQ",
        "outputId": "e3b7a956-9fd8-4758-8b02-9464ddeeee6d"
      },
      "execution_count": null,
      "outputs": [
        {
          "output_type": "stream",
          "name": "stdout",
          "text": [
            "69\n",
            "65 \n",
            "65 66 \n",
            "65 66 67 \n",
            "65 66 67 68 \n"
          ]
        }
      ]
    },
    {
      "cell_type": "code",
      "source": [
        "n=int(input())\n",
        "for i in range(65,n):\n",
        "    for j in range(65,i+1):\n",
        "        print(chr(j),end=\" \")\n",
        "    print()"
      ],
      "metadata": {
        "colab": {
          "base_uri": "https://localhost:8080/"
        },
        "id": "ag6RicA8NQAe",
        "outputId": "bd6918b7-d065-4c66-9e5b-4b0dd57f1b0d"
      },
      "execution_count": null,
      "outputs": [
        {
          "output_type": "stream",
          "name": "stdout",
          "text": [
            "69\n",
            "A \n",
            "A B \n",
            "A B C \n",
            "A B C D \n"
          ]
        }
      ]
    },
    {
      "cell_type": "code",
      "source": [
        "i=0\n",
        "n=int(input())\n",
        "while(i<5):\n",
        "   print(i)\n",
        "   i+=1"
      ],
      "metadata": {
        "colab": {
          "base_uri": "https://localhost:8080/"
        },
        "id": "xwgufamLYVrB",
        "outputId": "5f0fadfb-1d7e-4764-827d-ffcb18a5c59b"
      },
      "execution_count": null,
      "outputs": [
        {
          "output_type": "stream",
          "name": "stdout",
          "text": [
            "2\n",
            "0\n",
            "1\n",
            "2\n",
            "3\n",
            "4\n"
          ]
        }
      ]
    },
    {
      "cell_type": "code",
      "source": [
        "for i in range(1,11):\n",
        "   print(i)"
      ],
      "metadata": {
        "colab": {
          "base_uri": "https://localhost:8080/"
        },
        "id": "2dVIGeTHh-cs",
        "outputId": "db9dfd88-1105-404b-9e37-1ccd3da615bd"
      },
      "execution_count": null,
      "outputs": [
        {
          "output_type": "stream",
          "name": "stdout",
          "text": [
            "1\n",
            "2\n",
            "3\n",
            "4\n",
            "5\n",
            "6\n",
            "7\n",
            "8\n",
            "9\n",
            "10\n"
          ]
        }
      ]
    },
    {
      "cell_type": "code",
      "source": [
        "for i in range(6):\n",
        "    if i==2:\n",
        "       continue\n",
        "    print(i)"
      ],
      "metadata": {
        "colab": {
          "base_uri": "https://localhost:8080/"
        },
        "id": "krgnZZ9Ti0lT",
        "outputId": "ef2513be-8378-41f2-d295-8069087cd4eb"
      },
      "execution_count": null,
      "outputs": [
        {
          "output_type": "stream",
          "name": "stdout",
          "text": [
            "0\n",
            "1\n",
            "3\n",
            "4\n",
            "5\n"
          ]
        }
      ]
    },
    {
      "cell_type": "code",
      "source": [
        "for i in range(6):\n",
        "    if i==5:\n",
        "       break\n",
        "    print(i)"
      ],
      "metadata": {
        "colab": {
          "base_uri": "https://localhost:8080/"
        },
        "id": "vV6cdNJikhVt",
        "outputId": "e5629e22-630b-4763-cabe-a18e870c4305"
      },
      "execution_count": null,
      "outputs": [
        {
          "output_type": "stream",
          "name": "stdout",
          "text": [
            "0\n",
            "1\n",
            "2\n",
            "3\n",
            "4\n"
          ]
        }
      ]
    },
    {
      "cell_type": "code",
      "source": [
        "#variable : variable is a assign the data and to store the data\n",
        "#Rule : we should not start which special characters\n",
        "#like---@chandu,v4chandu,14chandu\n",
        "# a=2514-> where-a is variable and 2514 is value\n",
        "#Array=(chandu2514)\n",
        "#print(array)"
      ],
      "metadata": {
        "id": "ZLyRa-BCDHFh"
      },
      "execution_count": null,
      "outputs": []
    },
    {
      "cell_type": "code",
      "source": [
        "print(\"chandu14\")"
      ],
      "metadata": {
        "colab": {
          "base_uri": "https://localhost:8080/"
        },
        "id": "zh8LuKNuKugM",
        "outputId": "8798e119-963f-4c97-c55c-203f6aae00c0"
      },
      "execution_count": null,
      "outputs": [
        {
          "output_type": "stream",
          "name": "stdout",
          "text": [
            "chandu14\n"
          ]
        }
      ]
    },
    {
      "cell_type": "code",
      "source": [
        "print('__chandu14')"
      ],
      "metadata": {
        "colab": {
          "base_uri": "https://localhost:8080/"
        },
        "id": "-ds7ER12LAUt",
        "outputId": "235a04c9-55dd-4e08-df0f-3b0780f1fec5"
      },
      "execution_count": null,
      "outputs": [
        {
          "output_type": "stream",
          "name": "stdout",
          "text": [
            "__chandu14\n"
          ]
        }
      ]
    },
    {
      "cell_type": "code",
      "source": [
        "print(\"chandini__chandu\")"
      ],
      "metadata": {
        "colab": {
          "base_uri": "https://localhost:8080/"
        },
        "id": "1xeHo4OGLJT2",
        "outputId": "5bfaa5b2-bf62-41d4-a3ea-e7e3afd59331"
      },
      "execution_count": null,
      "outputs": [
        {
          "output_type": "stream",
          "name": "stdout",
          "text": [
            "chandini__chandu\n"
          ]
        }
      ]
    },
    {
      "cell_type": "code",
      "source": [
        "a=2514\n",
        "b=\"chandu\"\n",
        "print(a,b)"
      ],
      "metadata": {
        "colab": {
          "base_uri": "https://localhost:8080/"
        },
        "id": "FkI5ioerLamS",
        "outputId": "f9468ad3-f8d1-4f5d-a9d5-97347312ad9d"
      },
      "execution_count": null,
      "outputs": [
        {
          "output_type": "stream",
          "name": "stdout",
          "text": [
            "2514 chandu\n"
          ]
        }
      ]
    },
    {
      "cell_type": "code",
      "source": [
        "#Data types:\n",
        "#int-> +,- also\n",
        "#float->decimal values\n",
        "#string->\" \"\n",
        "#boolean->true (or) false 1,0\n",
        "#list->[] ->any type of data\n",
        "#tuple->( )"
      ],
      "metadata": {
        "id": "BMTOX6JRGC7g"
      },
      "execution_count": null,
      "outputs": []
    },
    {
      "cell_type": "code",
      "source": [
        "a=int(input())\n",
        "print(a)"
      ],
      "metadata": {
        "colab": {
          "base_uri": "https://localhost:8080/"
        },
        "id": "K9DLbEKQMgi8",
        "outputId": "fd14c58e-5fec-4427-d483-473e758c509a"
      },
      "execution_count": null,
      "outputs": [
        {
          "output_type": "stream",
          "name": "stdout",
          "text": [
            "2514\n",
            "2514\n"
          ]
        }
      ]
    },
    {
      "cell_type": "code",
      "source": [
        "a=int(input())\n",
        "print(a)\n",
        "print(type(a))"
      ],
      "metadata": {
        "colab": {
          "base_uri": "https://localhost:8080/"
        },
        "id": "R8RAgouiNhTm",
        "outputId": "6dc8d5a9-05d4-42e8-b850-33acac47dc84"
      },
      "execution_count": null,
      "outputs": [
        {
          "output_type": "stream",
          "name": "stdout",
          "text": [
            "2514\n",
            "2514\n",
            "<class 'int'>\n"
          ]
        }
      ]
    },
    {
      "cell_type": "code",
      "source": [
        "a=float(input())\n",
        "print(a)"
      ],
      "metadata": {
        "colab": {
          "base_uri": "https://localhost:8080/"
        },
        "id": "Rt8D3w29O7Km",
        "outputId": "907a8fdb-956e-4528-cd9e-bfbeb9a4ee78"
      },
      "execution_count": null,
      "outputs": [
        {
          "output_type": "stream",
          "name": "stdout",
          "text": [
            "78\n",
            "78.0\n"
          ]
        }
      ]
    },
    {
      "cell_type": "code",
      "source": [
        "a=float(input())\n",
        "print(a)\n",
        "print(type(a))"
      ],
      "metadata": {
        "colab": {
          "base_uri": "https://localhost:8080/"
        },
        "id": "KDhweL9QQEcn",
        "outputId": "b84a86d1-919a-4eb5-95c5-94a1d606203b"
      },
      "execution_count": null,
      "outputs": [
        {
          "output_type": "stream",
          "name": "stdout",
          "text": [
            "25\n",
            "25.0\n",
            "<class 'float'>\n"
          ]
        }
      ]
    },
    {
      "cell_type": "code",
      "source": [
        "a=input()\n",
        "print(a)"
      ],
      "metadata": {
        "colab": {
          "base_uri": "https://localhost:8080/"
        },
        "id": "OQEm5bbkQYb8",
        "outputId": "17eb153d-9d89-443b-cc1c-213a8dfe4691"
      },
      "execution_count": null,
      "outputs": [
        {
          "output_type": "stream",
          "name": "stdout",
          "text": [
            "chandu2514\n",
            "chandu2514\n"
          ]
        }
      ]
    },
    {
      "cell_type": "code",
      "source": [
        "a=input()\n",
        "print(a)\n",
        "print(type(a))"
      ],
      "metadata": {
        "colab": {
          "base_uri": "https://localhost:8080/"
        },
        "id": "y2wjSdnnQ07U",
        "outputId": "991c0ec5-6bb0-4e3d-bf20-7d60eeb3356a"
      },
      "execution_count": null,
      "outputs": [
        {
          "output_type": "stream",
          "name": "stdout",
          "text": [
            "chandu14\n",
            "chandu14\n",
            "<class 'str'>\n"
          ]
        }
      ]
    },
    {
      "cell_type": "code",
      "source": [
        "a=\"chandu25\"\n",
        "print(True)\n",
        "print(a)\n",
        "print(type(a))"
      ],
      "metadata": {
        "colab": {
          "base_uri": "https://localhost:8080/"
        },
        "id": "Xy3CLJpxQ-sO",
        "outputId": "748171cf-3bea-4a3b-e718-474c4d7ad804"
      },
      "execution_count": null,
      "outputs": [
        {
          "output_type": "stream",
          "name": "stdout",
          "text": [
            "True\n",
            "chandu25\n",
            "<class 'str'>\n"
          ]
        }
      ]
    },
    {
      "cell_type": "code",
      "source": [
        "chandu=[1,1.4,\"chandu\",int]\n",
        "print(chandu)"
      ],
      "metadata": {
        "colab": {
          "base_uri": "https://localhost:8080/"
        },
        "id": "MFHMUAA5RXkh",
        "outputId": "ee108500-08b8-4bcf-e342-9c797276c255"
      },
      "execution_count": null,
      "outputs": [
        {
          "output_type": "stream",
          "name": "stdout",
          "text": [
            "[1, 1.4, 'chandu', <class 'int'>]\n"
          ]
        }
      ]
    },
    {
      "cell_type": "code",
      "source": [
        "a=3\n",
        "b=5\n",
        "print(a,b)"
      ],
      "metadata": {
        "colab": {
          "base_uri": "https://localhost:8080/"
        },
        "id": "qiVY8BQF9vOP",
        "outputId": "b40b5022-1f31-4e06-82e1-78c0bd7b2a24"
      },
      "execution_count": null,
      "outputs": [
        {
          "output_type": "stream",
          "name": "stdout",
          "text": [
            "3 5\n"
          ]
        }
      ]
    }
  ]
}