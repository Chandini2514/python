{
  "nbformat": 4,
  "nbformat_minor": 0,
  "metadata": {
    "colab": {
      "provenance": [],
      "authorship_tag": "ABX9TyPMOch02pJMv29Stkhf8SfE",
      "include_colab_link": true
    },
    "kernelspec": {
      "name": "python3",
      "display_name": "Python 3"
    },
    "language_info": {
      "name": "python"
    }
  },
  "cells": [
    {
      "cell_type": "markdown",
      "metadata": {
        "id": "view-in-github",
        "colab_type": "text"
      },
      "source": [
        "<a href=\"https://colab.research.google.com/github/Chandini2514/python/blob/main/python1.ipynb\" target=\"_parent\"><img src=\"https://colab.research.google.com/assets/colab-badge.svg\" alt=\"Open In Colab\"/></a>"
      ]
    },
    {
      "cell_type": "code",
      "execution_count": null,
      "metadata": {
        "id": "55zEJpg5Pg-o"
      },
      "outputs": [],
      "source": [
        "#tuple =( ),min(x)-> lowest number,max(x)-> highest number,length(x)-> given data length if(\"apple\")->error\n",
        "#orderd,changeable,allow duplicates\n",
        "#its stores different data types"
      ]
    },
    {
      "cell_type": "code",
      "source": [
        "chandu=(\"apple\",\"banana\",\"chandu\",\"apple\")\n",
        "print(chandu)\n",
        "print(type(chandu))"
      ],
      "metadata": {
        "colab": {
          "base_uri": "https://localhost:8080/"
        },
        "id": "ii2Asa9CR2Pq",
        "outputId": "72127989-3b55-4508-a874-eb19745d807f"
      },
      "execution_count": null,
      "outputs": [
        {
          "output_type": "stream",
          "name": "stdout",
          "text": [
            "('apple', 'banana', 'chandu', 'apple')\n",
            "<class 'tuple'>\n"
          ]
        }
      ]
    },
    {
      "cell_type": "code",
      "source": [
        "#set={ }->reperated values cant  print\n",
        "#for example: set={1,2,3} print(s)->error\n",
        "#unordered,unchaneable,unindexed"
      ],
      "metadata": {
        "id": "qQV7IdvoSZUg"
      },
      "execution_count": null,
      "outputs": []
    },
    {
      "cell_type": "code",
      "source": [
        "c={\"apple\",\"banana\",\"chandu\",\"apple\",1425}\n",
        "print(c)\n",
        "print(type(c))"
      ],
      "metadata": {
        "colab": {
          "base_uri": "https://localhost:8080/"
        },
        "id": "VWu5Dy9-TAGm",
        "outputId": "53ed840f-3e9e-4f78-98b9-154fb6f9b6b1"
      },
      "execution_count": null,
      "outputs": [
        {
          "output_type": "stream",
          "name": "stdout",
          "text": [
            "{'chandu', 1425, 'apple', 'banana'}\n",
            "<class 'set'>\n"
          ]
        }
      ]
    },
    {
      "cell_type": "code",
      "source": [
        "#dictionary={\"name\":\"chandu\",\"age\":19}->we can use key we can change value and key,value->element,column(:)"
      ],
      "metadata": {
        "id": "gHguzrRGXS7h"
      },
      "execution_count": null,
      "outputs": []
    },
    {
      "cell_type": "code",
      "source": [
        "x={\"name\":\"chandini\",\"age\":19}\n",
        "print(x)\n",
        "print(type(x))\n",
        "print(x.keys())\n",
        "print(x.values())\n",
        "print(x.items())"
      ],
      "metadata": {
        "colab": {
          "base_uri": "https://localhost:8080/"
        },
        "id": "n28o08ifZfEc",
        "outputId": "ff69b5cc-5def-4411-c985-6fb60776e193"
      },
      "execution_count": null,
      "outputs": [
        {
          "output_type": "stream",
          "name": "stdout",
          "text": [
            "{'name': 'chandini', 'age': 19}\n",
            "<class 'dict'>\n",
            "dict_keys(['name', 'age'])\n",
            "dict_values(['chandini', 19])\n",
            "dict_items([('name', 'chandini'), ('age', 19)])\n"
          ]
        }
      ]
    },
    {
      "cell_type": "code",
      "source": [],
      "metadata": {
        "id": "puuKfUSNbFrP"
      },
      "execution_count": null,
      "outputs": []
    }
  ]
}